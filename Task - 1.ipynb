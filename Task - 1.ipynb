{
 "cells": [
  {
   "cell_type": "markdown",
   "id": "5f3f8909",
   "metadata": {},
   "source": [
    "GRIP : The Sparks Foundation\n",
    "----\n",
    "#GRIPDECEMBER22\n",
    "\n",
    "__Name: Amritha Prakash__\n",
    "\n",
    "Data Science and Business Intelligence Internship\n"
   ]
  },
  {
   "cell_type": "markdown",
   "id": "e40f784e",
   "metadata": {},
   "source": [
    "__Task 1 - Prediction using Supervised ML__"
   ]
  },
  {
   "cell_type": "markdown",
   "id": "610631d6",
   "metadata": {},
   "source": [
    "Task - \n",
    "Predict the percentage of a student based on number of Study hours.    \n",
    "This is a simple Linear Regression task as it involves only 2 variables i.e. Scores (dependent) and  Hours (independent).   \n",
    "Data can be found at : http://bit.ly/w-data (given)   \n",
    "what would be the score if a student studies for 9.25 hrs/day"
   ]
  },
  {
   "cell_type": "code",
   "execution_count": 1,
   "id": "91399b58",
   "metadata": {},
   "outputs": [],
   "source": [
    "# importing libraries\n",
    "import pandas as pd\n",
    "import numpy as np\n",
    "import matplotlib.pyplot as plt\n",
    "import seaborn as sns\n",
    "from sklearn.model_selection import train_test_split\n",
    "from sklearn.linear_model import LinearRegression\n",
    "from sklearn.metrics import r2_score,mean_absolute_error,mean_squared_error"
   ]
  },
  {
   "cell_type": "markdown",
   "id": "a7ac3c4c",
   "metadata": {},
   "source": [
    " "
   ]
  },
  {
   "cell_type": "markdown",
   "id": "dad7afe0",
   "metadata": {},
   "source": [
    "__#Reading the data from url__"
   ]
  },
  {
   "cell_type": "code",
   "execution_count": 2,
   "id": "25cea358",
   "metadata": {},
   "outputs": [
    {
     "name": "stdout",
     "output_type": "stream",
     "text": [
      "   Hours  Scores\n",
      "0    2.5      21\n",
      "1    5.1      47\n",
      "2    3.2      27\n",
      "3    8.5      75\n",
      "4    3.5      30\n",
      "\n",
      "Data imported successfully\n"
     ]
    }
   ],
   "source": [
    "#Saving URL link to a variable named url\n",
    "url = \"https://bit.ly/w-data\"\n",
    "\n",
    "#reading the csv file from the given url and stores into a DataFrame\n",
    "Dataset= pd.read_csv(url)\n",
    "\n",
    "#printing first 5 records of the data frame\n",
    "print(Dataset.head())\n",
    "print(\"\\nData imported successfully\")"
   ]
  },
  {
   "cell_type": "markdown",
   "id": "8f482495",
   "metadata": {},
   "source": [
    " "
   ]
  },
  {
   "cell_type": "markdown",
   "id": "b534b14a",
   "metadata": {},
   "source": [
    "__#Cleaning Data__"
   ]
  },
  {
   "cell_type": "code",
   "execution_count": 3,
   "id": "3c11c682",
   "metadata": {},
   "outputs": [
    {
     "data": {
      "text/plain": [
       "Hours     0\n",
       "Scores    0\n",
       "dtype: int64"
      ]
     },
     "execution_count": 3,
     "metadata": {},
     "output_type": "execute_result"
    }
   ],
   "source": [
    "#checking for null values in the dataset\n",
    "Dataset.isnull().sum()"
   ]
  },
  {
   "cell_type": "code",
   "execution_count": 4,
   "id": "528ed136",
   "metadata": {},
   "outputs": [
    {
     "data": {
      "text/plain": [
       "0"
      ]
     },
     "execution_count": 4,
     "metadata": {},
     "output_type": "execute_result"
    }
   ],
   "source": [
    "#checking for duplicate values in the dataset\n",
    "Dataset.duplicated().sum()"
   ]
  },
  {
   "cell_type": "markdown",
   "id": "41448438",
   "metadata": {},
   "source": [
    "__#Exploratory Data Analysis (EDA)__"
   ]
  },
  {
   "cell_type": "code",
   "execution_count": 5,
   "id": "d4e4a4ce",
   "metadata": {},
   "outputs": [
    {
     "data": {
      "text/plain": [
       "(25, 2)"
      ]
     },
     "execution_count": 5,
     "metadata": {},
     "output_type": "execute_result"
    }
   ],
   "source": [
    "#Data size\n",
    "Dataset.shape\n",
    "#DataFrame consists of 2 columns and 25 rows"
   ]
  },
  {
   "cell_type": "code",
   "execution_count": 6,
   "id": "ce74dac3",
   "metadata": {},
   "outputs": [
    {
     "name": "stdout",
     "output_type": "stream",
     "text": [
      "<class 'pandas.core.frame.DataFrame'>\n",
      "RangeIndex: 25 entries, 0 to 24\n",
      "Data columns (total 2 columns):\n",
      " #   Column  Non-Null Count  Dtype  \n",
      "---  ------  --------------  -----  \n",
      " 0   Hours   25 non-null     float64\n",
      " 1   Scores  25 non-null     int64  \n",
      "dtypes: float64(1), int64(1)\n",
      "memory usage: 528.0 bytes\n"
     ]
    }
   ],
   "source": [
    "# Information regarding the entire Dataframe, i.e. data types of each column\n",
    "Dataset.info()"
   ]
  },
  {
   "cell_type": "code",
   "execution_count": 7,
   "id": "9c9abef3",
   "metadata": {},
   "outputs": [
    {
     "data": {
      "text/html": [
       "<div>\n",
       "<style scoped>\n",
       "    .dataframe tbody tr th:only-of-type {\n",
       "        vertical-align: middle;\n",
       "    }\n",
       "\n",
       "    .dataframe tbody tr th {\n",
       "        vertical-align: top;\n",
       "    }\n",
       "\n",
       "    .dataframe thead th {\n",
       "        text-align: right;\n",
       "    }\n",
       "</style>\n",
       "<table border=\"1\" class=\"dataframe\">\n",
       "  <thead>\n",
       "    <tr style=\"text-align: right;\">\n",
       "      <th></th>\n",
       "      <th>Hours</th>\n",
       "      <th>Scores</th>\n",
       "    </tr>\n",
       "  </thead>\n",
       "  <tbody>\n",
       "    <tr>\n",
       "      <th>count</th>\n",
       "      <td>25.000000</td>\n",
       "      <td>25.000000</td>\n",
       "    </tr>\n",
       "    <tr>\n",
       "      <th>mean</th>\n",
       "      <td>5.012000</td>\n",
       "      <td>51.480000</td>\n",
       "    </tr>\n",
       "    <tr>\n",
       "      <th>std</th>\n",
       "      <td>2.525094</td>\n",
       "      <td>25.286887</td>\n",
       "    </tr>\n",
       "    <tr>\n",
       "      <th>min</th>\n",
       "      <td>1.100000</td>\n",
       "      <td>17.000000</td>\n",
       "    </tr>\n",
       "    <tr>\n",
       "      <th>25%</th>\n",
       "      <td>2.700000</td>\n",
       "      <td>30.000000</td>\n",
       "    </tr>\n",
       "    <tr>\n",
       "      <th>50%</th>\n",
       "      <td>4.800000</td>\n",
       "      <td>47.000000</td>\n",
       "    </tr>\n",
       "    <tr>\n",
       "      <th>75%</th>\n",
       "      <td>7.400000</td>\n",
       "      <td>75.000000</td>\n",
       "    </tr>\n",
       "    <tr>\n",
       "      <th>max</th>\n",
       "      <td>9.200000</td>\n",
       "      <td>95.000000</td>\n",
       "    </tr>\n",
       "  </tbody>\n",
       "</table>\n",
       "</div>"
      ],
      "text/plain": [
       "           Hours     Scores\n",
       "count  25.000000  25.000000\n",
       "mean    5.012000  51.480000\n",
       "std     2.525094  25.286887\n",
       "min     1.100000  17.000000\n",
       "25%     2.700000  30.000000\n",
       "50%     4.800000  47.000000\n",
       "75%     7.400000  75.000000\n",
       "max     9.200000  95.000000"
      ]
     },
     "execution_count": 7,
     "metadata": {},
     "output_type": "execute_result"
    }
   ],
   "source": [
    "# Describing the Dataset - i.e. overall count, mean, standard deviation, minimum, 25%, 50%, 75% and max of data values\n",
    "Dataset.describe()"
   ]
  },
  {
   "cell_type": "markdown",
   "id": "85a7de55",
   "metadata": {},
   "source": [
    " "
   ]
  },
  {
   "cell_type": "markdown",
   "id": "1a683633",
   "metadata": {},
   "source": [
    "__#Data Visualization__"
   ]
  },
  {
   "cell_type": "code",
   "execution_count": 8,
   "id": "e443ac63",
   "metadata": {},
   "outputs": [
    {
     "data": {
      "image/png": "[encoded data removed]",
      "text/plain": [
       "<Figure size 640x480 with 1 Axes>"
      ]
     },
     "metadata": {},
     "output_type": "display_data"
    }
   ],
   "source": [
    "# For better understanding on relationship between hours of study and scores, plotting a Scatter Plot\n",
    "sns.scatterplot(x='Hours', y='Scores', data= Dataset,color='g')\n",
    "plt.title(\"Hours vs Scores\")\n",
    "plt.show()"
   ]
  },
  {
   "cell_type": "code",
   "execution_count": 9,
   "id": "e6be83bc",
   "metadata": {},
   "outputs": [],
   "source": [
    "# From the visualisation can understand that it is a Positive Linear Relation that exists between Hours and Scores"
   ]
  },
  {
   "cell_type": "code",
   "execution_count": 10,
   "id": "0b519a6f",
   "metadata": {},
   "outputs": [],
   "source": [
    "#Another way to find the extent to which two variables are linearly related is by using Correlation.\n",
    "df=Dataset.corr(method='pearson')"
   ]
  },
  {
   "cell_type": "code",
   "execution_count": 11,
   "id": "b7ea3d51",
   "metadata": {},
   "outputs": [
    {
     "data": {
      "text/html": [
       "<div>\n",
       "<style scoped>\n",
       "    .dataframe tbody tr th:only-of-type {\n",
       "        vertical-align: middle;\n",
       "    }\n",
       "\n",
       "    .dataframe tbody tr th {\n",
       "        vertical-align: top;\n",
       "    }\n",
       "\n",
       "    .dataframe thead th {\n",
       "        text-align: right;\n",
       "    }\n",
       "</style>\n",
       "<table border=\"1\" class=\"dataframe\">\n",
       "  <thead>\n",
       "    <tr style=\"text-align: right;\">\n",
       "      <th></th>\n",
       "      <th>Hours</th>\n",
       "      <th>Scores</th>\n",
       "    </tr>\n",
       "  </thead>\n",
       "  <tbody>\n",
       "    <tr>\n",
       "      <th>Hours</th>\n",
       "      <td>1.000000</td>\n",
       "      <td>0.976191</td>\n",
       "    </tr>\n",
       "    <tr>\n",
       "      <th>Scores</th>\n",
       "      <td>0.976191</td>\n",
       "      <td>1.000000</td>\n",
       "    </tr>\n",
       "  </tbody>\n",
       "</table>\n",
       "</div>"
      ],
      "text/plain": [
       "           Hours    Scores\n",
       "Hours   1.000000  0.976191\n",
       "Scores  0.976191  1.000000"
      ]
     },
     "execution_count": 11,
     "metadata": {},
     "output_type": "execute_result"
    }
   ],
   "source": [
    "df"
   ]
  },
  {
   "cell_type": "code",
   "execution_count": 12,
   "id": "680ba868",
   "metadata": {},
   "outputs": [
    {
     "data": {
      "image/png": "[encoded data removed]",
      "text/plain": [
       "<Figure size 640x480 with 2 Axes>"
      ]
     },
     "metadata": {},
     "output_type": "display_data"
    }
   ],
   "source": [
    "sns.heatmap(df,cmap='inferno',annot=True, vmin=0.9,vmax=1)\n",
    "plt.show()\n",
    "#help(sns.heatmap)"
   ]
  },
  {
   "cell_type": "code",
   "execution_count": 13,
   "id": "421e8936",
   "metadata": {},
   "outputs": [],
   "source": [
    "# It also proves that Hours and Scores are positively linearly related."
   ]
  },
  {
   "cell_type": "markdown",
   "id": "bc461019",
   "metadata": {},
   "source": [
    " "
   ]
  },
  {
   "cell_type": "markdown",
   "id": "60e5aa1c",
   "metadata": {},
   "source": [
    "__#ML -__"
   ]
  },
  {
   "cell_type": "code",
   "execution_count": 14,
   "id": "972d9cfc",
   "metadata": {},
   "outputs": [
    {
     "name": "stdout",
     "output_type": "stream",
     "text": [
      "Independent variable Values (Hours):\n",
      " [[2.5]\n",
      " [5.1]\n",
      " [3.2]\n",
      " [8.5]\n",
      " [3.5]\n",
      " [1.5]\n",
      " [9.2]\n",
      " [5.5]\n",
      " [8.3]\n",
      " [2.7]\n",
      " [7.7]\n",
      " [5.9]\n",
      " [4.5]\n",
      " [3.3]\n",
      " [1.1]\n",
      " [8.9]\n",
      " [2.5]\n",
      " [1.9]\n",
      " [6.1]\n",
      " [7.4]\n",
      " [2.7]\n",
      " [4.8]\n",
      " [3.8]\n",
      " [6.9]\n",
      " [7.8]]\n",
      "\n",
      "Dependent variable Values (Scores):\n",
      " [21 47 27 75 30 20 88 60 81 25 85 62 41 42 17 95 30 24 67 69 30 54 35 76\n",
      " 86]\n"
     ]
    }
   ],
   "source": [
    "#Preparing Data \n",
    "\n",
    "#Splitting the data into Independent and Dependent Variables.\n",
    "X=Dataset.iloc[:,:-1].values\n",
    "y=Dataset.iloc[:,-1].values\n",
    "print(\"Independent variable Values (Hours):\\n\", X)\n",
    "print(\"\\nDependent variable Values (Scores):\\n\", y)"
   ]
  },
  {
   "cell_type": "code",
   "execution_count": 15,
   "id": "c0bfcb47",
   "metadata": {},
   "outputs": [
    {
     "name": "stdout",
     "output_type": "stream",
     "text": [
      "Training set contains  20\n",
      "Testing set contains  5\n"
     ]
    }
   ],
   "source": [
    "#Splitting the Dataset for Training and Testing Purpose\n",
    "# Assuming Training size as 80%, i.e. 0.8 of data will be considered as Train data and remaining 0.2 as Test data \n",
    "X_train, X_test, y_train, y_test = train_test_split(X,y,train_size=0.80)\n",
    "print(\"Training set contains \",len(X_train))\n",
    "print(\"Testing set contains \",len(X_test))"
   ]
  },
  {
   "cell_type": "markdown",
   "id": "153538a2",
   "metadata": {},
   "source": [
    " "
   ]
  },
  {
   "cell_type": "markdown",
   "id": "aa04a82a",
   "metadata": {},
   "source": [
    "__#Training the Algorithm__"
   ]
  },
  {
   "cell_type": "code",
   "execution_count": 16,
   "id": "006fcf22",
   "metadata": {},
   "outputs": [],
   "source": [
    "# Model used for Training : Linear Regression, since it is linearly positive relationship\n",
    "\n",
    "lr_model = LinearRegression()\n",
    "model = lr_model.fit(X_train, y_train)"
   ]
  },
  {
   "cell_type": "code",
   "execution_count": 17,
   "id": "d6e389f4",
   "metadata": {},
   "outputs": [
    {
     "data": {
      "text/plain": [
       "array([9.66305952])"
      ]
     },
     "execution_count": 17,
     "metadata": {},
     "output_type": "execute_result"
    }
   ],
   "source": [
    "# SLOPE \n",
    "model.coef_ "
   ]
  },
  {
   "cell_type": "code",
   "execution_count": 18,
   "id": "eb70cf51",
   "metadata": {},
   "outputs": [
    {
     "data": {
      "text/plain": [
       "2.901008362026559"
      ]
     },
     "execution_count": 18,
     "metadata": {},
     "output_type": "execute_result"
    }
   ],
   "source": [
    "# Y Intercept (c)\n",
    "model.intercept_"
   ]
  },
  {
   "cell_type": "code",
   "execution_count": 19,
   "id": "cbfa0f89",
   "metadata": {},
   "outputs": [],
   "source": [
    "#Regression Line\n",
    "line= model.coef_*X+model.intercept_\n"
   ]
  },
  {
   "cell_type": "code",
   "execution_count": 20,
   "id": "82642890",
   "metadata": {},
   "outputs": [
    {
     "data": {
      "image/png": "[encoded data removed]",
      "text/plain": [
       "<Figure size 640x480 with 1 Axes>"
      ]
     },
     "metadata": {},
     "output_type": "display_data"
    }
   ],
   "source": [
    "# Plotting for the test data\n",
    "plt.scatter(X_train, y_train,c=\"b\",label=\"Training data points\")\n",
    "plt.scatter(X_test,y_test,c=\"black\",label=\"Testing data points\")\n",
    "plt.plot(X, line,c=\"red\",label=\"Regression line\")\n",
    "plt.legend()\n",
    "plt.xlabel(\"Hours\")\n",
    "plt.ylabel(\"Scores\")\n",
    "plt.title(\"Model : Linear Regression\")\n",
    "plt.show()"
   ]
  },
  {
   "cell_type": "code",
   "execution_count": 21,
   "id": "70b99b21",
   "metadata": {},
   "outputs": [],
   "source": [
    "#Making Predictions using the model for X_test\n",
    "Y_predict_test = model.predict(X_test)\n"
   ]
  },
  {
   "cell_type": "code",
   "execution_count": 22,
   "id": "e6175ca8",
   "metadata": {},
   "outputs": [
    {
     "data": {
      "text/html": [
       "<div>\n",
       "<style scoped>\n",
       "    .dataframe tbody tr th:only-of-type {\n",
       "        vertical-align: middle;\n",
       "    }\n",
       "\n",
       "    .dataframe tbody tr th {\n",
       "        vertical-align: top;\n",
       "    }\n",
       "\n",
       "    .dataframe thead th {\n",
       "        text-align: right;\n",
       "    }\n",
       "</style>\n",
       "<table border=\"1\" class=\"dataframe\">\n",
       "  <thead>\n",
       "    <tr style=\"text-align: right;\">\n",
       "      <th></th>\n",
       "      <th>Actual</th>\n",
       "      <th>Predicted</th>\n",
       "    </tr>\n",
       "  </thead>\n",
       "  <tbody>\n",
       "    <tr>\n",
       "      <th>0</th>\n",
       "      <td>30</td>\n",
       "      <td>36.721717</td>\n",
       "    </tr>\n",
       "    <tr>\n",
       "      <th>1</th>\n",
       "      <td>62</td>\n",
       "      <td>59.913060</td>\n",
       "    </tr>\n",
       "    <tr>\n",
       "      <th>2</th>\n",
       "      <td>24</td>\n",
       "      <td>21.260821</td>\n",
       "    </tr>\n",
       "    <tr>\n",
       "      <th>3</th>\n",
       "      <td>85</td>\n",
       "      <td>77.306567</td>\n",
       "    </tr>\n",
       "    <tr>\n",
       "      <th>4</th>\n",
       "      <td>81</td>\n",
       "      <td>83.104402</td>\n",
       "    </tr>\n",
       "  </tbody>\n",
       "</table>\n",
       "</div>"
      ],
      "text/plain": [
       "   Actual  Predicted\n",
       "0      30  36.721717\n",
       "1      62  59.913060\n",
       "2      24  21.260821\n",
       "3      85  77.306567\n",
       "4      81  83.104402"
      ]
     },
     "execution_count": 22,
     "metadata": {},
     "output_type": "execute_result"
    }
   ],
   "source": [
    "#Actual values and Predicted values \n",
    "data=pd.DataFrame({'Actual':y_test,'Predicted':Y_predict_test})\n",
    "data\n",
    "     "
   ]
  },
  {
   "cell_type": "code",
   "execution_count": 23,
   "id": "1c25f664",
   "metadata": {},
   "outputs": [
    {
     "name": "stdout",
     "output_type": "stream",
     "text": [
      "Training Accuracy Score: 94.96 %\n",
      "Testing Accuracy score: 96.23 %\n"
     ]
    }
   ],
   "source": [
    "# Accuracy score of training and testing data set\n",
    "print(\"Training Accuracy Score:\",round(model.score(X_train,y_train)*100,2),\"%\")\n",
    "print(\"Testing Accuracy score:\",round(model.score(X_test,y_test)*100,2),\"%\")"
   ]
  },
  {
   "cell_type": "markdown",
   "id": "83d1f5cf",
   "metadata": {},
   "source": [
    " "
   ]
  },
  {
   "cell_type": "markdown",
   "id": "87e1717c",
   "metadata": {},
   "source": [
    "__#Evaluating the Model__"
   ]
  },
  {
   "cell_type": "code",
   "execution_count": 24,
   "id": "549f92c9",
   "metadata": {},
   "outputs": [
    {
     "name": "stdout",
     "output_type": "stream",
     "text": [
      "Root Mean Squared Error: 4.912378665912954\n",
      "R2 score: 0.9623087214836362\n",
      "Mean Absolute Error 4.269134284308903\n"
     ]
    }
   ],
   "source": [
    "r2score=r2_score(y_test,Y_predict_test)\n",
    "mean_abs_error=mean_absolute_error(y_test,Y_predict_test)\n",
    "root_mean_squ_error= mean_squared_error(y_test,Y_predict_test,squared=False)\n",
    "\n",
    "print(\"Root Mean Squared Error:\",root_mean_squ_error) \n",
    "\n",
    "print(\"R2 score:\",r2score)\n",
    "\n",
    "print(\"Mean Absolute Error\",mean_abs_error)\n"
   ]
  },
  {
   "cell_type": "code",
   "execution_count": 25,
   "id": "3b437c2d",
   "metadata": {},
   "outputs": [],
   "source": [
    "#Evaluation step is particularly important to compare how well different algorithms perform on a particular dataset.\n",
    "\n",
    "#Root Mean Squared error is how far predictions fall from measured true values using Euclidean distance, it is 4.91\n",
    "#R2 score i.e. Coefficient of Determination is 96.2% \n",
    "#Mean Absolute error is the average of all errors, the value is only 4.269 ."
   ]
  },
  {
   "cell_type": "markdown",
   "id": "b666a0a8",
   "metadata": {},
   "source": [
    " "
   ]
  },
  {
   "cell_type": "markdown",
   "id": "b1909696",
   "metadata": {},
   "source": [
    "__#Predicting the Result using the Model__"
   ]
  },
  {
   "cell_type": "code",
   "execution_count": 26,
   "id": "abf7e91b",
   "metadata": {},
   "outputs": [
    {
     "name": "stdout",
     "output_type": "stream",
     "text": [
      "Predicted Score  of the student who studied for 9.25 hrs is 92.284\n"
     ]
    }
   ],
   "source": [
    "hours = [[9.25]]\n",
    "own_pred_score = model.predict(hours)\n",
    "\n",
    "print(\"Predicted Score  of the student who studied for {} hrs is {}\".format(hours[0][0],round(own_pred_score[0],3)))"
   ]
  },
  {
   "cell_type": "code",
   "execution_count": null,
   "id": "9e65a245",
   "metadata": {},
   "outputs": [],
   "source": []
  }
 ],
 "metadata": {
  "kernelspec": {
   "display_name": "Python 3 (ipykernel)",
   "language": "python",
   "name": "python3"
  },
  "language_info": {
   "codemirror_mode": {
    "name": "ipython",
    "version": 3
   },
   "file_extension": ".py",
   "mimetype": "text/x-python",
   "name": "python",
   "nbconvert_exporter": "python",
   "pygments_lexer": "ipython3",
   "version": "3.7.15"
  }
 },
 "nbformat": 4,
 "nbformat_minor": 5
}
